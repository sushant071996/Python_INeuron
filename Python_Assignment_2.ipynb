{
 "cells": [
  {
   "cell_type": "markdown",
   "metadata": {},
   "source": [
    "# TASK 1"
   ]
  },
  {
   "cell_type": "markdown",
   "metadata": {},
   "source": [
    "myreduce() function gives the sum of all the element of list"
   ]
  },
  {
   "cell_type": "code",
   "execution_count": 1,
   "metadata": {},
   "outputs": [],
   "source": [
    "def myreduce(l):\n",
    "    m=0\n",
    "    for i in l:\n",
    "        m=m+i\n",
    "    return m\n",
    "        "
   ]
  },
  {
   "cell_type": "code",
   "execution_count": 2,
   "metadata": {},
   "outputs": [
    {
     "data": {
      "text/plain": [
       "15"
      ]
     },
     "execution_count": 2,
     "metadata": {},
     "output_type": "execute_result"
    }
   ],
   "source": [
    "myreduce([1,2,3,4,5])"
   ]
  },
  {
   "cell_type": "markdown",
   "metadata": {},
   "source": [
    "myfilter() is a function which filter out the no divisible by 9 from a list"
   ]
  },
  {
   "cell_type": "code",
   "execution_count": 3,
   "metadata": {},
   "outputs": [],
   "source": [
    "def myfilter(l):\n",
    "    m = []\n",
    "    for i in l:\n",
    "        if type(i)==int:\n",
    "            if i%9==0:\n",
    "                m.append(i)\n",
    "        else:\n",
    "            return (\"list should contain only integer\")\n",
    "    return m    \n",
    "        "
   ]
  },
  {
   "cell_type": "code",
   "execution_count": 4,
   "metadata": {},
   "outputs": [
    {
     "data": {
      "text/plain": [
       "[9]"
      ]
     },
     "execution_count": 4,
     "metadata": {},
     "output_type": "execute_result"
    }
   ],
   "source": [
    "myfilter([1,2,3,4,6,7,8,9,10,11,12,14])"
   ]
  },
  {
   "cell_type": "markdown",
   "metadata": {},
   "source": [
    "List Comprehension"
   ]
  },
  {
   "cell_type": "code",
   "execution_count": 5,
   "metadata": {},
   "outputs": [
    {
     "name": "stdout",
     "output_type": "stream",
     "text": [
      "['A', 'C', 'A', 'D', 'G', 'I', 'L', 'D']\n"
     ]
    }
   ],
   "source": [
    "p=[]\n",
    "z=['A','C','A','D','G','I','L','D']\n",
    "[p.append(q) for q in z ]\n",
    "print(p)"
   ]
  },
  {
   "cell_type": "code",
   "execution_count": 6,
   "metadata": {},
   "outputs": [
    {
     "name": "stdout",
     "output_type": "stream",
     "text": [
      "['x', 'xx', 'xxx', 'xxxx', 'y', 'yy', 'yyy', 'yyyy', 'z', 'zz', 'zzz', 'zzzz']\n"
     ]
    }
   ],
   "source": [
    "z=['x','y','z']\n",
    "j=[]\n",
    "[j.append(q*i) for q in z for i in range(1,5)]\n",
    "print(j)"
   ]
  },
  {
   "cell_type": "code",
   "execution_count": 7,
   "metadata": {},
   "outputs": [
    {
     "name": "stdout",
     "output_type": "stream",
     "text": [
      "['x', 'y', 'z', 'xx', 'yy', 'zz', 'xxx', 'yyy', 'zzz', 'xxxx', 'yyyy', 'zzzz']\n"
     ]
    }
   ],
   "source": [
    "z=['x','y','z']\n",
    "x=[]\n",
    "[x.append(q*i) for i in range(1,5) for q in z]\n",
    "print(x)"
   ]
  },
  {
   "cell_type": "code",
   "execution_count": 8,
   "metadata": {},
   "outputs": [
    {
     "name": "stdout",
     "output_type": "stream",
     "text": [
      "[[2], [3], [4], [3], [4], [5], [4], [5], [6]]\n"
     ]
    }
   ],
   "source": [
    "d=[2,3,4,5,6]\n",
    "\n",
    "o=[]\n",
    "[o.append([i]) for i in d[0:3]]\n",
    "[o.append([i]) for i in d[1:4]]\n",
    "[o.append([i]) for i in d[2:5]]\n",
    "print(o)"
   ]
  },
  {
   "cell_type": "code",
   "execution_count": 9,
   "metadata": {},
   "outputs": [
    {
     "name": "stdout",
     "output_type": "stream",
     "text": [
      "[[2, 3, 4, 5], [3, 4, 5, 6], [4, 5, 6]]\n"
     ]
    }
   ],
   "source": [
    "o=[]\n",
    "p=[]\n",
    "q=[]\n",
    "final=[]\n",
    "[o.append(i) for i in d[0:4]]\n",
    "[p.append(i) for i in d[1:5]]\n",
    "[q.append(i) for i in d[2:6]]\n",
    "final.append(o)\n",
    "final.append(p)\n",
    "final.append(q)\n",
    "print(final)"
   ]
  },
  {
   "cell_type": "code",
   "execution_count": 10,
   "metadata": {},
   "outputs": [
    {
     "name": "stdout",
     "output_type": "stream",
     "text": [
      "[(1, 1), (2, 1), (3, 1), (1, 2), (2, 2), (3, 2), (1, 3), (2, 3), (3, 3)]\n"
     ]
    }
   ],
   "source": [
    "list5 = [(i,j) for j in [1, 2, 3] for i in [1, 2, 3]]\n",
    "print(list5)"
   ]
  },
  {
   "cell_type": "code",
   "execution_count": 11,
   "metadata": {},
   "outputs": [
    {
     "name": "stdout",
     "output_type": "stream",
     "text": [
      "a_string\n"
     ]
    }
   ],
   "source": [
    "a_list = [\"a_string\", \"the_\", \"string\"]\n",
    "longest_string = max(a_list, key=len)\n",
    "print(longest_string)\n",
    "   "
   ]
  },
  {
   "cell_type": "markdown",
   "metadata": {},
   "source": [
    "# Task 2"
   ]
  },
  {
   "cell_type": "code",
   "execution_count": 15,
   "metadata": {},
   "outputs": [],
   "source": [
    "class TraingleSide:\n",
    "        def __init__(self,a,b,c):\n",
    "            self.a = a\n",
    "            self.b = b\n",
    "            self.c = c\n",
    "\n",
    "class AreaTriangle(TraingleSide):\n",
    "    def __init__(self,*args):\n",
    "        super(AreaTriangle,self).__init__(*args)\n",
    "        s=(self.a +self.b+self.c) / 2\n",
    "        print ((s*(s-self.a)*(s-self.b)*(s-self.c)) ** 0.5)  "
   ]
  },
  {
   "cell_type": "code",
   "execution_count": 17,
   "metadata": {},
   "outputs": [
    {
     "name": "stdout",
     "output_type": "stream",
     "text": [
      "9.16515138991168\n"
     ]
    }
   ],
   "source": [
    "b=AreaTriangle(5,4,5)"
   ]
  },
  {
   "cell_type": "code",
   "execution_count": 18,
   "metadata": {},
   "outputs": [],
   "source": [
    "def filter_long_word(l,n):\n",
    "    m = []\n",
    "    for i in l:\n",
    "        if len(i)>n:\n",
    "            m.append(i)\n",
    "        \n",
    "    return m    \n",
    "        "
   ]
  },
  {
   "cell_type": "code",
   "execution_count": 19,
   "metadata": {},
   "outputs": [
    {
     "data": {
      "text/plain": [
       "['abcd', 'sssqsq', 'sasasas']"
      ]
     },
     "execution_count": 19,
     "metadata": {},
     "output_type": "execute_result"
    }
   ],
   "source": [
    "filter_long_word([\"abcd\",\"sssqsq\",'q','sasasas','as'],3)"
   ]
  },
  {
   "cell_type": "code",
   "execution_count": 20,
   "metadata": {},
   "outputs": [],
   "source": [
    "def get_length_word(l):\n",
    "    m = []\n",
    "    for i in l:\n",
    "        m.append(len(i))\n",
    "        \n",
    "    return m    \n",
    "        "
   ]
  },
  {
   "cell_type": "code",
   "execution_count": 21,
   "metadata": {},
   "outputs": [
    {
     "data": {
      "text/plain": [
       "[4, 6, 1, 7, 2]"
      ]
     },
     "execution_count": 21,
     "metadata": {},
     "output_type": "execute_result"
    }
   ],
   "source": [
    "get_length_word([\"abcd\",\"sssqsq\",'q','sasasas','as'])"
   ]
  },
  {
   "cell_type": "code",
   "execution_count": 22,
   "metadata": {},
   "outputs": [],
   "source": [
    "def get_vowels(l):\n",
    "    m = []\n",
    "    for i in l:\n",
    "        if len(i)==1:\n",
    "            if i in ['A','E','I','O','U','a','e','i','o','u']:\n",
    "                m.append(True)\n",
    "                continue\n",
    "            else:\n",
    "                m.append(False)\n",
    "        else:\n",
    "            m.append(False)\n",
    "    return m    \n",
    "        "
   ]
  },
  {
   "cell_type": "code",
   "execution_count": 23,
   "metadata": {},
   "outputs": [
    {
     "data": {
      "text/plain": [
       "[True, False, True, False, False, True]"
      ]
     },
     "execution_count": 23,
     "metadata": {},
     "output_type": "execute_result"
    }
   ],
   "source": [
    "get_vowels(['a','b','i','aq','aqaqq','A'])"
   ]
  }
 ],
 "metadata": {
  "kernelspec": {
   "display_name": "Python 3",
   "language": "python",
   "name": "python3"
  },
  "language_info": {
   "codemirror_mode": {
    "name": "ipython",
    "version": 3
   },
   "file_extension": ".py",
   "mimetype": "text/x-python",
   "name": "python",
   "nbconvert_exporter": "python",
   "pygments_lexer": "ipython3",
   "version": "3.7.4"
  }
 },
 "nbformat": 4,
 "nbformat_minor": 2
}
